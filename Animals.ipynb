{
  "nbformat": 4,
  "nbformat_minor": 0,
  "metadata": {
    "colab": {
      "provenance": [],
      "gpuType": "T4",
      "include_colab_link": true
    },
    "kernelspec": {
      "name": "python3",
      "display_name": "Python 3"
    },
    "language_info": {
      "name": "python"
    },
    "accelerator": "GPU",
    "widgets": {
      "application/vnd.jupyter.widget-state+json": {
        "6962f3a2c4d044c7af472fa35cec05a1": {
          "model_module": "@jupyter-widgets/controls",
          "model_name": "HBoxModel",
          "model_module_version": "1.5.0",
          "state": {
            "_dom_classes": [],
            "_model_module": "@jupyter-widgets/controls",
            "_model_module_version": "1.5.0",
            "_model_name": "HBoxModel",
            "_view_count": null,
            "_view_module": "@jupyter-widgets/controls",
            "_view_module_version": "1.5.0",
            "_view_name": "HBoxView",
            "box_style": "",
            "children": [
              "IPY_MODEL_d457c23f2f2240c89112f0634c8727b1",
              "IPY_MODEL_0fec98b3ced04f05b2ec98012b8cf092",
              "IPY_MODEL_57226b9df3ea41679453d86cf82af65d"
            ],
            "layout": "IPY_MODEL_f4534dc96aba4b489848b17f0e4c6f17"
          }
        },
        "d457c23f2f2240c89112f0634c8727b1": {
          "model_module": "@jupyter-widgets/controls",
          "model_name": "HTMLModel",
          "model_module_version": "1.5.0",
          "state": {
            "_dom_classes": [],
            "_model_module": "@jupyter-widgets/controls",
            "_model_module_version": "1.5.0",
            "_model_name": "HTMLModel",
            "_view_count": null,
            "_view_module": "@jupyter-widgets/controls",
            "_view_module_version": "1.5.0",
            "_view_name": "HTMLView",
            "description": "",
            "description_tooltip": null,
            "layout": "IPY_MODEL_7519700ac31842229ffa268f7e10ebcc",
            "placeholder": "​",
            "style": "IPY_MODEL_473697c496de45e7a76797f3936b6db0",
            "value": "100%"
          }
        },
        "0fec98b3ced04f05b2ec98012b8cf092": {
          "model_module": "@jupyter-widgets/controls",
          "model_name": "FloatProgressModel",
          "model_module_version": "1.5.0",
          "state": {
            "_dom_classes": [],
            "_model_module": "@jupyter-widgets/controls",
            "_model_module_version": "1.5.0",
            "_model_name": "FloatProgressModel",
            "_view_count": null,
            "_view_module": "@jupyter-widgets/controls",
            "_view_module_version": "1.5.0",
            "_view_name": "ProgressView",
            "bar_style": "success",
            "description": "",
            "description_tooltip": null,
            "layout": "IPY_MODEL_bef6df264e7c4ffebdce361ed2768ff3",
            "max": 26179,
            "min": 0,
            "orientation": "horizontal",
            "style": "IPY_MODEL_b2501c4f1f7f43d38117dba4f10fe759",
            "value": 26179
          }
        },
        "57226b9df3ea41679453d86cf82af65d": {
          "model_module": "@jupyter-widgets/controls",
          "model_name": "HTMLModel",
          "model_module_version": "1.5.0",
          "state": {
            "_dom_classes": [],
            "_model_module": "@jupyter-widgets/controls",
            "_model_module_version": "1.5.0",
            "_model_name": "HTMLModel",
            "_view_count": null,
            "_view_module": "@jupyter-widgets/controls",
            "_view_module_version": "1.5.0",
            "_view_name": "HTMLView",
            "description": "",
            "description_tooltip": null,
            "layout": "IPY_MODEL_16973172e053460a8db2d023062bae12",
            "placeholder": "​",
            "style": "IPY_MODEL_70f330c2b47c41a8901eb9014a940c00",
            "value": " 26179/26179 [01:14&lt;00:00, 362.87it/s]"
          }
        },
        "f4534dc96aba4b489848b17f0e4c6f17": {
          "model_module": "@jupyter-widgets/base",
          "model_name": "LayoutModel",
          "model_module_version": "1.2.0",
          "state": {
            "_model_module": "@jupyter-widgets/base",
            "_model_module_version": "1.2.0",
            "_model_name": "LayoutModel",
            "_view_count": null,
            "_view_module": "@jupyter-widgets/base",
            "_view_module_version": "1.2.0",
            "_view_name": "LayoutView",
            "align_content": null,
            "align_items": null,
            "align_self": null,
            "border": null,
            "bottom": null,
            "display": null,
            "flex": null,
            "flex_flow": null,
            "grid_area": null,
            "grid_auto_columns": null,
            "grid_auto_flow": null,
            "grid_auto_rows": null,
            "grid_column": null,
            "grid_gap": null,
            "grid_row": null,
            "grid_template_areas": null,
            "grid_template_columns": null,
            "grid_template_rows": null,
            "height": null,
            "justify_content": null,
            "justify_items": null,
            "left": null,
            "margin": null,
            "max_height": null,
            "max_width": null,
            "min_height": null,
            "min_width": null,
            "object_fit": null,
            "object_position": null,
            "order": null,
            "overflow": null,
            "overflow_x": null,
            "overflow_y": null,
            "padding": null,
            "right": null,
            "top": null,
            "visibility": null,
            "width": null
          }
        },
        "7519700ac31842229ffa268f7e10ebcc": {
          "model_module": "@jupyter-widgets/base",
          "model_name": "LayoutModel",
          "model_module_version": "1.2.0",
          "state": {
            "_model_module": "@jupyter-widgets/base",
            "_model_module_version": "1.2.0",
            "_model_name": "LayoutModel",
            "_view_count": null,
            "_view_module": "@jupyter-widgets/base",
            "_view_module_version": "1.2.0",
            "_view_name": "LayoutView",
            "align_content": null,
            "align_items": null,
            "align_self": null,
            "border": null,
            "bottom": null,
            "display": null,
            "flex": null,
            "flex_flow": null,
            "grid_area": null,
            "grid_auto_columns": null,
            "grid_auto_flow": null,
            "grid_auto_rows": null,
            "grid_column": null,
            "grid_gap": null,
            "grid_row": null,
            "grid_template_areas": null,
            "grid_template_columns": null,
            "grid_template_rows": null,
            "height": null,
            "justify_content": null,
            "justify_items": null,
            "left": null,
            "margin": null,
            "max_height": null,
            "max_width": null,
            "min_height": null,
            "min_width": null,
            "object_fit": null,
            "object_position": null,
            "order": null,
            "overflow": null,
            "overflow_x": null,
            "overflow_y": null,
            "padding": null,
            "right": null,
            "top": null,
            "visibility": null,
            "width": null
          }
        },
        "473697c496de45e7a76797f3936b6db0": {
          "model_module": "@jupyter-widgets/controls",
          "model_name": "DescriptionStyleModel",
          "model_module_version": "1.5.0",
          "state": {
            "_model_module": "@jupyter-widgets/controls",
            "_model_module_version": "1.5.0",
            "_model_name": "DescriptionStyleModel",
            "_view_count": null,
            "_view_module": "@jupyter-widgets/base",
            "_view_module_version": "1.2.0",
            "_view_name": "StyleView",
            "description_width": ""
          }
        },
        "bef6df264e7c4ffebdce361ed2768ff3": {
          "model_module": "@jupyter-widgets/base",
          "model_name": "LayoutModel",
          "model_module_version": "1.2.0",
          "state": {
            "_model_module": "@jupyter-widgets/base",
            "_model_module_version": "1.2.0",
            "_model_name": "LayoutModel",
            "_view_count": null,
            "_view_module": "@jupyter-widgets/base",
            "_view_module_version": "1.2.0",
            "_view_name": "LayoutView",
            "align_content": null,
            "align_items": null,
            "align_self": null,
            "border": null,
            "bottom": null,
            "display": null,
            "flex": null,
            "flex_flow": null,
            "grid_area": null,
            "grid_auto_columns": null,
            "grid_auto_flow": null,
            "grid_auto_rows": null,
            "grid_column": null,
            "grid_gap": null,
            "grid_row": null,
            "grid_template_areas": null,
            "grid_template_columns": null,
            "grid_template_rows": null,
            "height": null,
            "justify_content": null,
            "justify_items": null,
            "left": null,
            "margin": null,
            "max_height": null,
            "max_width": null,
            "min_height": null,
            "min_width": null,
            "object_fit": null,
            "object_position": null,
            "order": null,
            "overflow": null,
            "overflow_x": null,
            "overflow_y": null,
            "padding": null,
            "right": null,
            "top": null,
            "visibility": null,
            "width": null
          }
        },
        "b2501c4f1f7f43d38117dba4f10fe759": {
          "model_module": "@jupyter-widgets/controls",
          "model_name": "ProgressStyleModel",
          "model_module_version": "1.5.0",
          "state": {
            "_model_module": "@jupyter-widgets/controls",
            "_model_module_version": "1.5.0",
            "_model_name": "ProgressStyleModel",
            "_view_count": null,
            "_view_module": "@jupyter-widgets/base",
            "_view_module_version": "1.2.0",
            "_view_name": "StyleView",
            "bar_color": null,
            "description_width": ""
          }
        },
        "16973172e053460a8db2d023062bae12": {
          "model_module": "@jupyter-widgets/base",
          "model_name": "LayoutModel",
          "model_module_version": "1.2.0",
          "state": {
            "_model_module": "@jupyter-widgets/base",
            "_model_module_version": "1.2.0",
            "_model_name": "LayoutModel",
            "_view_count": null,
            "_view_module": "@jupyter-widgets/base",
            "_view_module_version": "1.2.0",
            "_view_name": "LayoutView",
            "align_content": null,
            "align_items": null,
            "align_self": null,
            "border": null,
            "bottom": null,
            "display": null,
            "flex": null,
            "flex_flow": null,
            "grid_area": null,
            "grid_auto_columns": null,
            "grid_auto_flow": null,
            "grid_auto_rows": null,
            "grid_column": null,
            "grid_gap": null,
            "grid_row": null,
            "grid_template_areas": null,
            "grid_template_columns": null,
            "grid_template_rows": null,
            "height": null,
            "justify_content": null,
            "justify_items": null,
            "left": null,
            "margin": null,
            "max_height": null,
            "max_width": null,
            "min_height": null,
            "min_width": null,
            "object_fit": null,
            "object_position": null,
            "order": null,
            "overflow": null,
            "overflow_x": null,
            "overflow_y": null,
            "padding": null,
            "right": null,
            "top": null,
            "visibility": null,
            "width": null
          }
        },
        "70f330c2b47c41a8901eb9014a940c00": {
          "model_module": "@jupyter-widgets/controls",
          "model_name": "DescriptionStyleModel",
          "model_module_version": "1.5.0",
          "state": {
            "_model_module": "@jupyter-widgets/controls",
            "_model_module_version": "1.5.0",
            "_model_name": "DescriptionStyleModel",
            "_view_count": null,
            "_view_module": "@jupyter-widgets/base",
            "_view_module_version": "1.2.0",
            "_view_name": "StyleView",
            "description_width": ""
          }
        }
      }
    }
  },
  "cells": [
    {
      "cell_type": "markdown",
      "metadata": {
        "id": "view-in-github",
        "colab_type": "text"
      },
      "source": [
        "<a href=\"https://colab.research.google.com/github/VladimirVladetic/RUAPAnimals/blob/main/Animals.ipynb\" target=\"_parent\"><img src=\"https://colab.research.google.com/assets/colab-badge.svg\" alt=\"Open In Colab\"/></a>"
      ]
    },
    {
      "cell_type": "code",
      "source": [
        "import numpy as np\n",
        "import pandas as pd\n",
        "import cv2\n",
        "import matplotlib.pyplot as plt\n",
        "from tqdm import tqdm_notebook as tqdm\n",
        "import seaborn as sns\n",
        "from tensorflow.keras.preprocessing.image import ImageDataGenerator, array_to_img, img_to_array, load_img\n",
        "from keras.models import Sequential, Model\n",
        "from keras.layers import Dense, Conv2D, Dropout, Flatten, MaxPooling2D, Input, BatchNormalization\n",
        "from tensorflow.keras.layers import Activation, Dropout, Flatten, Dense\n",
        "from tensorflow.keras.regularizers import l1_l2, l1, l2\n",
        "from tensorflow.keras.optimizers import Adam\n",
        "from tensorflow.keras.callbacks import EarlyStopping, ReduceLROnPlateau\n",
        "import tensorflow as tf\n",
        "from PIL import Image\n",
        "\n",
        "#sickit_learn\n",
        "from sklearn.model_selection import train_test_split\n",
        "from sklearn.preprocessing import StandardScaler\n",
        "from sklearn.linear_model import LinearRegression\n",
        "from sklearn.metrics import mean_squared_error\n",
        "from sklearn.utils import class_weight, shuffle\n",
        "\n",
        "#keras\n",
        "from keras import applications\n",
        "from keras import optimizers\n",
        "from keras.utils import to_categorical\n",
        "from keras.models import Sequential, Model, load_model\n",
        "from keras.layers import Dropout, Flatten, Dense\n",
        "from keras.preprocessing.image import ImageDataGenerator\n",
        "from keras.callbacks import ModelCheckpoint\n",
        "from google.colab import files\n",
        "import os\n",
        "import zipfile\n",
        "from google.colab import files\n",
        "from sklearn.model_selection import train_test_split\n",
        "from sklearn.metrics import classification_report, confusion_matrix\n",
        "import scikitplot as skplt"
      ],
      "metadata": {
        "id": "bKjLFycjzSyN"
      },
      "execution_count": 1,
      "outputs": []
    },
    {
      "cell_type": "code",
      "source": [
        "uploaded = files.upload()\n",
        "\n",
        "source_path = '/content/kaggle.json'\n",
        "destination_path = '/root/.kaggle/kaggle.json'\n",
        "kaggle_dir = '/root/.kaggle/'\n",
        "if not os.path.exists(kaggle_dir):\n",
        "    os.makedirs(kaggle_dir)\n",
        "os.rename(source_path, destination_path)"
      ],
      "metadata": {
        "colab": {
          "base_uri": "https://localhost:8080/",
          "height": 73
        },
        "id": "X9SJdAZRzWql",
        "outputId": "c9f40ba1-de29-4201-de04-8250ec346c2a"
      },
      "execution_count": 4,
      "outputs": [
        {
          "output_type": "display_data",
          "data": {
            "text/plain": [
              "<IPython.core.display.HTML object>"
            ],
            "text/html": [
              "\n",
              "     <input type=\"file\" id=\"files-0a27f22b-bcc6-437e-b8d6-d2b2beae0c2f\" name=\"files[]\" multiple disabled\n",
              "        style=\"border:none\" />\n",
              "     <output id=\"result-0a27f22b-bcc6-437e-b8d6-d2b2beae0c2f\">\n",
              "      Upload widget is only available when the cell has been executed in the\n",
              "      current browser session. Please rerun this cell to enable.\n",
              "      </output>\n",
              "      <script>// Copyright 2017 Google LLC\n",
              "//\n",
              "// Licensed under the Apache License, Version 2.0 (the \"License\");\n",
              "// you may not use this file except in compliance with the License.\n",
              "// You may obtain a copy of the License at\n",
              "//\n",
              "//      http://www.apache.org/licenses/LICENSE-2.0\n",
              "//\n",
              "// Unless required by applicable law or agreed to in writing, software\n",
              "// distributed under the License is distributed on an \"AS IS\" BASIS,\n",
              "// WITHOUT WARRANTIES OR CONDITIONS OF ANY KIND, either express or implied.\n",
              "// See the License for the specific language governing permissions and\n",
              "// limitations under the License.\n",
              "\n",
              "/**\n",
              " * @fileoverview Helpers for google.colab Python module.\n",
              " */\n",
              "(function(scope) {\n",
              "function span(text, styleAttributes = {}) {\n",
              "  const element = document.createElement('span');\n",
              "  element.textContent = text;\n",
              "  for (const key of Object.keys(styleAttributes)) {\n",
              "    element.style[key] = styleAttributes[key];\n",
              "  }\n",
              "  return element;\n",
              "}\n",
              "\n",
              "// Max number of bytes which will be uploaded at a time.\n",
              "const MAX_PAYLOAD_SIZE = 100 * 1024;\n",
              "\n",
              "function _uploadFiles(inputId, outputId) {\n",
              "  const steps = uploadFilesStep(inputId, outputId);\n",
              "  const outputElement = document.getElementById(outputId);\n",
              "  // Cache steps on the outputElement to make it available for the next call\n",
              "  // to uploadFilesContinue from Python.\n",
              "  outputElement.steps = steps;\n",
              "\n",
              "  return _uploadFilesContinue(outputId);\n",
              "}\n",
              "\n",
              "// This is roughly an async generator (not supported in the browser yet),\n",
              "// where there are multiple asynchronous steps and the Python side is going\n",
              "// to poll for completion of each step.\n",
              "// This uses a Promise to block the python side on completion of each step,\n",
              "// then passes the result of the previous step as the input to the next step.\n",
              "function _uploadFilesContinue(outputId) {\n",
              "  const outputElement = document.getElementById(outputId);\n",
              "  const steps = outputElement.steps;\n",
              "\n",
              "  const next = steps.next(outputElement.lastPromiseValue);\n",
              "  return Promise.resolve(next.value.promise).then((value) => {\n",
              "    // Cache the last promise value to make it available to the next\n",
              "    // step of the generator.\n",
              "    outputElement.lastPromiseValue = value;\n",
              "    return next.value.response;\n",
              "  });\n",
              "}\n",
              "\n",
              "/**\n",
              " * Generator function which is called between each async step of the upload\n",
              " * process.\n",
              " * @param {string} inputId Element ID of the input file picker element.\n",
              " * @param {string} outputId Element ID of the output display.\n",
              " * @return {!Iterable<!Object>} Iterable of next steps.\n",
              " */\n",
              "function* uploadFilesStep(inputId, outputId) {\n",
              "  const inputElement = document.getElementById(inputId);\n",
              "  inputElement.disabled = false;\n",
              "\n",
              "  const outputElement = document.getElementById(outputId);\n",
              "  outputElement.innerHTML = '';\n",
              "\n",
              "  const pickedPromise = new Promise((resolve) => {\n",
              "    inputElement.addEventListener('change', (e) => {\n",
              "      resolve(e.target.files);\n",
              "    });\n",
              "  });\n",
              "\n",
              "  const cancel = document.createElement('button');\n",
              "  inputElement.parentElement.appendChild(cancel);\n",
              "  cancel.textContent = 'Cancel upload';\n",
              "  const cancelPromise = new Promise((resolve) => {\n",
              "    cancel.onclick = () => {\n",
              "      resolve(null);\n",
              "    };\n",
              "  });\n",
              "\n",
              "  // Wait for the user to pick the files.\n",
              "  const files = yield {\n",
              "    promise: Promise.race([pickedPromise, cancelPromise]),\n",
              "    response: {\n",
              "      action: 'starting',\n",
              "    }\n",
              "  };\n",
              "\n",
              "  cancel.remove();\n",
              "\n",
              "  // Disable the input element since further picks are not allowed.\n",
              "  inputElement.disabled = true;\n",
              "\n",
              "  if (!files) {\n",
              "    return {\n",
              "      response: {\n",
              "        action: 'complete',\n",
              "      }\n",
              "    };\n",
              "  }\n",
              "\n",
              "  for (const file of files) {\n",
              "    const li = document.createElement('li');\n",
              "    li.append(span(file.name, {fontWeight: 'bold'}));\n",
              "    li.append(span(\n",
              "        `(${file.type || 'n/a'}) - ${file.size} bytes, ` +\n",
              "        `last modified: ${\n",
              "            file.lastModifiedDate ? file.lastModifiedDate.toLocaleDateString() :\n",
              "                                    'n/a'} - `));\n",
              "    const percent = span('0% done');\n",
              "    li.appendChild(percent);\n",
              "\n",
              "    outputElement.appendChild(li);\n",
              "\n",
              "    const fileDataPromise = new Promise((resolve) => {\n",
              "      const reader = new FileReader();\n",
              "      reader.onload = (e) => {\n",
              "        resolve(e.target.result);\n",
              "      };\n",
              "      reader.readAsArrayBuffer(file);\n",
              "    });\n",
              "    // Wait for the data to be ready.\n",
              "    let fileData = yield {\n",
              "      promise: fileDataPromise,\n",
              "      response: {\n",
              "        action: 'continue',\n",
              "      }\n",
              "    };\n",
              "\n",
              "    // Use a chunked sending to avoid message size limits. See b/62115660.\n",
              "    let position = 0;\n",
              "    do {\n",
              "      const length = Math.min(fileData.byteLength - position, MAX_PAYLOAD_SIZE);\n",
              "      const chunk = new Uint8Array(fileData, position, length);\n",
              "      position += length;\n",
              "\n",
              "      const base64 = btoa(String.fromCharCode.apply(null, chunk));\n",
              "      yield {\n",
              "        response: {\n",
              "          action: 'append',\n",
              "          file: file.name,\n",
              "          data: base64,\n",
              "        },\n",
              "      };\n",
              "\n",
              "      let percentDone = fileData.byteLength === 0 ?\n",
              "          100 :\n",
              "          Math.round((position / fileData.byteLength) * 100);\n",
              "      percent.textContent = `${percentDone}% done`;\n",
              "\n",
              "    } while (position < fileData.byteLength);\n",
              "  }\n",
              "\n",
              "  // All done.\n",
              "  yield {\n",
              "    response: {\n",
              "      action: 'complete',\n",
              "    }\n",
              "  };\n",
              "}\n",
              "\n",
              "scope.google = scope.google || {};\n",
              "scope.google.colab = scope.google.colab || {};\n",
              "scope.google.colab._files = {\n",
              "  _uploadFiles,\n",
              "  _uploadFilesContinue,\n",
              "};\n",
              "})(self);\n",
              "</script> "
            ]
          },
          "metadata": {}
        },
        {
          "output_type": "stream",
          "name": "stdout",
          "text": [
            "Saving kaggle.json to kaggle.json\n"
          ]
        }
      ]
    },
    {
      "cell_type": "code",
      "execution_count": 5,
      "metadata": {
        "colab": {
          "base_uri": "https://localhost:8080/"
        },
        "id": "ThQDCUW0zDKu",
        "outputId": "79f7db51-d8eb-4e82-9f17-1319e9851e6c"
      },
      "outputs": [
        {
          "output_type": "stream",
          "name": "stdout",
          "text": [
            "Warning: Your Kaggle API key is readable by other users on this system! To fix this, you can run 'chmod 600 /root/.kaggle/kaggle.json'\n",
            "Downloading animals10.zip to /content\n",
            "100% 583M/586M [00:26<00:00, 26.0MB/s]\n",
            "100% 586M/586M [00:26<00:00, 23.5MB/s]\n"
          ]
        }
      ],
      "source": [
        "! kaggle datasets download -d alessiocorrado99/animals10"
      ]
    },
    {
      "cell_type": "code",
      "source": [
        "with zipfile.ZipFile('/content/animals10.zip', 'r') as zip_ref:\n",
        "  zip_ref.extractall('/content')"
      ],
      "metadata": {
        "id": "2rvuVkkmzkTf"
      },
      "execution_count": 6,
      "outputs": []
    },
    {
      "cell_type": "code",
      "source": [
        "## mucca = krava = 0\n",
        "## ragno = pauk = 1\n",
        "## scoiattolo = vjeverica = 2\n",
        "## cavallo = konj = 3\n",
        "## farfalla = leptir = 4\n",
        "## elefante = slon = 5\n",
        "## gallina = kokos = 6\n",
        "## pecora = ovca = 7\n",
        "## cane = pas = 8\n",
        "## gatto = macka = 9"
      ],
      "metadata": {
        "id": "P0JsM32G9DTr"
      },
      "execution_count": null,
      "outputs": []
    },
    {
      "cell_type": "code",
      "source": [
        "def plot_animals(df):\n",
        "    plt.figure(figsize=(15, 5))\n",
        "    df['category_names'] = df['category'].map(animal_mapping)\n",
        "    sns.countplot(data=df, x='category_names', edgecolor='black')\n",
        "    plt.title('Animal Distribution')\n",
        "    plt.xlabel('Animal Category')\n",
        "    plt.ylabel('Count')\n",
        "    plt.xticks(rotation=45, ha='right')\n",
        "    plt.show()"
      ],
      "metadata": {
        "id": "ShslmwWe7h10"
      },
      "execution_count": 2,
      "outputs": []
    },
    {
      "cell_type": "code",
      "source": [
        "def extract_features(images, height, width):\n",
        "    features = []\n",
        "    for image in tqdm(images):\n",
        "        var_img = load_img(image, color_mode='grayscale')\n",
        "        var_img = var_img.resize((height,width), Image.Resampling.LANCZOS)\n",
        "        var_img = np.array(var_img)\n",
        "        var_img = var_img / 255.0\n",
        "        features.append(var_img)\n",
        "    features = np.array(features)\n",
        "    features = features.reshape(len(features), height, width, 1)\n",
        "    features = np.array(features, dtype=np.float32)\n",
        "    return features"
      ],
      "metadata": {
        "id": "SnDxI265Q52s"
      },
      "execution_count": 3,
      "outputs": []
    },
    {
      "cell_type": "code",
      "source": [
        "def display_images(images, num_images=5):\n",
        "    for i in range(num_images):\n",
        "        plt.subplot(1, num_images, i+1)\n",
        "        plt.imshow(images[i].squeeze(), cmap='gray')\n",
        "        plt.axis('off')\n",
        "    plt.show()"
      ],
      "metadata": {
        "id": "FVySSjghTemG"
      },
      "execution_count": 4,
      "outputs": []
    },
    {
      "cell_type": "code",
      "source": [
        "def create_model(input_shape,num_classes):\n",
        "    inputs = Input(input_shape)\n",
        "\n",
        "    conv_1 = Conv2D(32, kernel_size=(3,3), activation='relu', padding='same')(inputs)\n",
        "    batch_1 = BatchNormalization()(conv_1)\n",
        "    conv_2 = Conv2D(64, kernel_size=(3,3), activation='relu', padding='same')(batch_1)\n",
        "    batch_2 = BatchNormalization()(conv_2)\n",
        "\n",
        "    maxpool_1 = MaxPooling2D(pool_size=(2,2))(batch_2)\n",
        "    dropout_1 = Dropout(0.25)(maxpool_1)\n",
        "\n",
        "    conv_3 = Conv2D(128, kernel_size=(3,3), activation='relu', padding='same')(dropout_1)\n",
        "    batch_3 = BatchNormalization()(conv_3)\n",
        "    conv_4 = Conv2D(128, kernel_size=(3,3), activation='relu', padding='same')(batch_3)\n",
        "    batch_4 = BatchNormalization()(conv_4)\n",
        "\n",
        "    maxpool_2 = MaxPooling2D(pool_size=(2,2))(batch_4)\n",
        "    dropout_2 = Dropout(0.25)(maxpool_2)\n",
        "\n",
        "    conv_5 = Conv2D(256, kernel_size=(3,3), activation='relu', padding='same')(dropout_2)\n",
        "    batch_5 = BatchNormalization()(conv_5)\n",
        "    conv_6 = Conv2D(256, kernel_size=(3,3), activation='relu', padding='same')(batch_5)\n",
        "    batch_6 = BatchNormalization()(conv_6)\n",
        "\n",
        "    maxpool_3 = MaxPooling2D(pool_size=(2,2))(batch_6)\n",
        "    dropout_3 = Dropout(0.25)(maxpool_3)\n",
        "\n",
        "    conv_7 = Conv2D(512, kernel_size=(3,3), activation='relu', padding='same', kernel_regularizer=l2(0.01))(dropout_3)\n",
        "    batch_7 = BatchNormalization()(conv_7)\n",
        "    conv_8 = Conv2D(512, kernel_size=(3,3), activation='relu', padding='same', kernel_regularizer=l2(0.01))(batch_7)\n",
        "    batch_8 = BatchNormalization()(conv_8)\n",
        "\n",
        "    maxpool_4 = MaxPooling2D(pool_size=(2,2))(batch_8)\n",
        "    dropout_4 = Dropout(0.25)(maxpool_4)\n",
        "\n",
        "    conv_9 = Conv2D(512, kernel_size=(3,3), activation='relu', padding='same', kernel_regularizer=l2(0.01))(dropout_4)\n",
        "    batch_9 = BatchNormalization()(conv_9)\n",
        "    conv_10 = Conv2D(512, kernel_size=(3,3), activation='relu', padding='same', kernel_regularizer=l2(0.01))(batch_9)\n",
        "    batch_10 = BatchNormalization()(conv_10)\n",
        "\n",
        "    flatten = Flatten()(batch_10)\n",
        "\n",
        "    dense_1 = Dense(256, activation='relu', kernel_regularizer=l2(0.01))(flatten)\n",
        "\n",
        "    dropout_1 = Dropout(0.3)(dense_1)\n",
        "\n",
        "    dense_2 = Dense(256, activation='relu', kernel_regularizer=l2(0.01))(dropout_1)\n",
        "\n",
        "    output = Dense(num_classes, activation='softmax', name=\"animal_out\")(dense_2)\n",
        "\n",
        "    model = Model(inputs=[inputs], outputs=[output])\n",
        "    return model"
      ],
      "metadata": {
        "id": "zbw0ErdQRK1B"
      },
      "execution_count": 5,
      "outputs": []
    },
    {
      "cell_type": "code",
      "source": [
        "foldernames = os.listdir('/content/raw-img/')\n",
        "categories = []\n",
        "files = []\n",
        "i = 0\n",
        "for k, folder in enumerate(foldernames):\n",
        "    filenames = os.listdir(\"/content/raw-img/\" + folder);\n",
        "    for file in filenames:\n",
        "        files.append(\"/content/raw-img/\" + folder + \"/\" + file)\n",
        "        categories.append(k)\n",
        "\n",
        "df = pd.DataFrame({\n",
        "    'filename': files,\n",
        "    'category': categories\n",
        "})"
      ],
      "metadata": {
        "id": "_WJRIjUS56It"
      },
      "execution_count": 6,
      "outputs": []
    },
    {
      "cell_type": "code",
      "source": [
        "animal_mapping = {\n",
        "    0: 'Krava',\n",
        "    1: 'Pauk',\n",
        "    2: 'Vjeverica',\n",
        "    3: 'Konj',\n",
        "    4: 'Leptir',\n",
        "    5: 'Slon',\n",
        "    6: 'Kokos',\n",
        "    7: 'Ovca',\n",
        "    8: 'Pas',\n",
        "    9: 'Macka'\n",
        "}"
      ],
      "metadata": {
        "id": "ixjI5CPx-LtQ"
      },
      "execution_count": 7,
      "outputs": []
    },
    {
      "cell_type": "code",
      "source": [
        "plot_animals(df)"
      ],
      "metadata": {
        "colab": {
          "base_uri": "https://localhost:8080/",
          "height": 529
        },
        "id": "c3bNQbmZ7oWy",
        "outputId": "dea0bfa6-e033-42f5-b0ac-9b087d06a275"
      },
      "execution_count": 10,
      "outputs": [
        {
          "output_type": "display_data",
          "data": {
            "text/plain": [
              "<Figure size 1500x500 with 1 Axes>"
            ],
            "image/png": "[encoded data removed]"
          },
          "metadata": {}
        }
      ]
    },
    {
      "cell_type": "code",
      "source": [
        "image_height = 128\n",
        "image_width = 128\n",
        "num_classes = 10"
      ],
      "metadata": {
        "id": "wSV8Pv6yRPzB"
      },
      "execution_count": 8,
      "outputs": []
    },
    {
      "cell_type": "code",
      "source": [
        "X = extract_features(df[\"filename\"],image_height,image_width)\n",
        "\n",
        "y = np.array(df[\"category\"])\n",
        "\n",
        "y = np.array(list(df[\"category\"].apply(lambda x: to_categorical(x, num_classes=num_classes))))\n",
        "\n",
        "input_shape = (image_height,image_width,1)"
      ],
      "metadata": {
        "id": "xdizWwxrRSwQ",
        "outputId": "b009abc3-d4ff-446d-dd54-62d3c64a2e5e",
        "colab": {
          "base_uri": "https://localhost:8080/",
          "height": 101,
          "referenced_widgets": [
            "6962f3a2c4d044c7af472fa35cec05a1",
            "d457c23f2f2240c89112f0634c8727b1",
            "0fec98b3ced04f05b2ec98012b8cf092",
            "57226b9df3ea41679453d86cf82af65d",
            "f4534dc96aba4b489848b17f0e4c6f17",
            "7519700ac31842229ffa268f7e10ebcc",
            "473697c496de45e7a76797f3936b6db0",
            "bef6df264e7c4ffebdce361ed2768ff3",
            "b2501c4f1f7f43d38117dba4f10fe759",
            "16973172e053460a8db2d023062bae12",
            "70f330c2b47c41a8901eb9014a940c00"
          ]
        }
      },
      "execution_count": 9,
      "outputs": [
        {
          "output_type": "stream",
          "name": "stderr",
          "text": [
            "<ipython-input-3-c45749b9876c>:3: TqdmDeprecationWarning: This function will be removed in tqdm==5.0.0\n",
            "Please use `tqdm.notebook.tqdm` instead of `tqdm.tqdm_notebook`\n",
            "  for image in tqdm(images):\n"
          ]
        },
        {
          "output_type": "display_data",
          "data": {
            "text/plain": [
              "  0%|          | 0/26179 [00:00<?, ?it/s]"
            ],
            "application/vnd.jupyter.widget-view+json": {
              "version_major": 2,
              "version_minor": 0,
              "model_id": "6962f3a2c4d044c7af472fa35cec05a1"
            }
          },
          "metadata": {}
        }
      ]
    },
    {
      "cell_type": "code",
      "source": [
        "X_train, X_test, y_train, y_test = train_test_split(X, y, test_size=0.2, random_state=42)"
      ],
      "metadata": {
        "id": "_Lb7v5nHPPtf"
      },
      "execution_count": 10,
      "outputs": []
    },
    {
      "cell_type": "code",
      "source": [
        "display_images(X_train)"
      ],
      "metadata": {
        "colab": {
          "base_uri": "https://localhost:8080/",
          "height": 122
        },
        "id": "uwBWLGHCTjMd",
        "outputId": "31993c25-f239-4b96-b0b9-831981fdfb3d"
      },
      "execution_count": 11,
      "outputs": [
        {
          "output_type": "display_data",
          "data": {
            "text/plain": [
              "<Figure size 640x480 with 5 Axes>"
            ],
            "image/png": "[encoded data removed]"
          },
          "metadata": {}
        }
      ]
    },
    {
      "cell_type": "code",
      "source": [
        "opt = Adam(learning_rate=0.005)"
      ],
      "metadata": {
        "id": "9fd3yG1ZPPpL"
      },
      "execution_count": 12,
      "outputs": []
    },
    {
      "cell_type": "code",
      "source": [
        "model = create_model(input_shape, num_classes)\n",
        "\n",
        "model.compile(loss=\"categorical_crossentropy\", optimizer = opt, metrics='accuracy' )\n",
        "\n",
        "early_stopping = EarlyStopping(monitor='val_loss', patience=10, restore_best_weights=True)\n",
        "\n",
        "lr_scheduler = ReduceLROnPlateau(factor=0.5, patience=5)\n",
        "\n",
        "history = model.fit(x=X_train, y=y_train, batch_size=64, epochs=100, validation_split=0.2, callbacks=[lr_scheduler, early_stopping])"
      ],
      "metadata": {
        "id": "g15m8QKcSaCl",
        "colab": {
          "base_uri": "https://localhost:8080/"
        },
        "outputId": "47657a2d-e163-42d4-c273-50962c1cc06a"
      },
      "execution_count": 13,
      "outputs": [
        {
          "output_type": "stream",
          "name": "stdout",
          "text": [
            "Epoch 1/100\n",
            "262/262 [==============================] - 129s 393ms/step - loss: 18.4158 - accuracy: 0.1935 - val_loss: 3.6145 - val_accuracy: 0.1776 - lr: 0.0050\n",
            "Epoch 2/100\n",
            "262/262 [==============================] - 87s 333ms/step - loss: 3.2199 - accuracy: 0.2139 - val_loss: 2.9540 - val_accuracy: 0.1895 - lr: 0.0050\n",
            "Epoch 3/100\n",
            "262/262 [==============================] - 89s 338ms/step - loss: 2.8260 - accuracy: 0.2137 - val_loss: 2.6734 - val_accuracy: 0.1919 - lr: 0.0050\n",
            "Epoch 4/100\n",
            "262/262 [==============================] - 89s 339ms/step - loss: 2.8534 - accuracy: 0.2383 - val_loss: 2.7778 - val_accuracy: 0.1502 - lr: 0.0050\n",
            "Epoch 5/100\n",
            "262/262 [==============================] - 89s 339ms/step - loss: 2.8060 - accuracy: 0.2732 - val_loss: 2.8427 - val_accuracy: 0.1762 - lr: 0.0050\n",
            "Epoch 6/100\n",
            "262/262 [==============================] - 90s 344ms/step - loss: 2.6393 - accuracy: 0.2805 - val_loss: 2.8539 - val_accuracy: 0.2058 - lr: 0.0050\n",
            "Epoch 7/100\n",
            "262/262 [==============================] - 89s 340ms/step - loss: 2.6701 - accuracy: 0.2961 - val_loss: 2.8241 - val_accuracy: 0.1776 - lr: 0.0050\n",
            "Epoch 8/100\n",
            "262/262 [==============================] - 89s 341ms/step - loss: 3.1148 - accuracy: 0.3132 - val_loss: 3.0146 - val_accuracy: 0.2862 - lr: 0.0050\n",
            "Epoch 9/100\n",
            "262/262 [==============================] - 90s 345ms/step - loss: 2.1020 - accuracy: 0.3377 - val_loss: 2.2900 - val_accuracy: 0.2294 - lr: 0.0025\n",
            "Epoch 10/100\n",
            "262/262 [==============================] - 90s 345ms/step - loss: 2.1622 - accuracy: 0.3396 - val_loss: 2.4350 - val_accuracy: 0.2363 - lr: 0.0025\n",
            "Epoch 11/100\n",
            "262/262 [==============================] - 89s 341ms/step - loss: 2.2118 - accuracy: 0.3517 - val_loss: 2.4975 - val_accuracy: 0.1786 - lr: 0.0025\n",
            "Epoch 12/100\n",
            "262/262 [==============================] - 90s 345ms/step - loss: 2.3868 - accuracy: 0.3491 - val_loss: 40.3821 - val_accuracy: 0.1017 - lr: 0.0025\n",
            "Epoch 13/100\n",
            "262/262 [==============================] - 89s 341ms/step - loss: 2.5508 - accuracy: 0.3586 - val_loss: 2.6748 - val_accuracy: 0.1776 - lr: 0.0025\n",
            "Epoch 14/100\n",
            "262/262 [==============================] - 90s 344ms/step - loss: 2.9267 - accuracy: 0.3587 - val_loss: 2.5990 - val_accuracy: 0.1776 - lr: 0.0025\n",
            "Epoch 15/100\n",
            "262/262 [==============================] - 90s 345ms/step - loss: 1.8714 - accuracy: 0.3777 - val_loss: 2.3619 - val_accuracy: 0.2160 - lr: 0.0012\n",
            "Epoch 16/100\n",
            "262/262 [==============================] - 90s 344ms/step - loss: 1.8964 - accuracy: 0.3783 - val_loss: 2.2781 - val_accuracy: 0.2664 - lr: 0.0012\n",
            "Epoch 17/100\n",
            "262/262 [==============================] - 90s 344ms/step - loss: 1.9233 - accuracy: 0.3769 - val_loss: 2.4063 - val_accuracy: 0.1841 - lr: 0.0012\n",
            "Epoch 18/100\n",
            "262/262 [==============================] - 89s 340ms/step - loss: 1.9603 - accuracy: 0.3818 - val_loss: 2.1913 - val_accuracy: 0.3516 - lr: 0.0012\n",
            "Epoch 19/100\n",
            "262/262 [==============================] - 90s 344ms/step - loss: 1.9439 - accuracy: 0.3878 - val_loss: 2.8977 - val_accuracy: 0.3120 - lr: 0.0012\n",
            "Epoch 20/100\n",
            "262/262 [==============================] - 90s 344ms/step - loss: 2.0097 - accuracy: 0.3880 - val_loss: 2.4371 - val_accuracy: 0.1778 - lr: 0.0012\n",
            "Epoch 21/100\n",
            "262/262 [==============================] - 89s 340ms/step - loss: 2.2961 - accuracy: 0.3914 - val_loss: 2.6098 - val_accuracy: 0.1824 - lr: 0.0012\n",
            "Epoch 22/100\n",
            "262/262 [==============================] - 90s 344ms/step - loss: 1.8507 - accuracy: 0.3955 - val_loss: 2.2260 - val_accuracy: 0.3237 - lr: 0.0012\n",
            "Epoch 23/100\n",
            "262/262 [==============================] - 89s 340ms/step - loss: 1.8287 - accuracy: 0.3980 - val_loss: 2.1667 - val_accuracy: 0.3476 - lr: 0.0012\n",
            "Epoch 24/100\n",
            "262/262 [==============================] - 90s 344ms/step - loss: 2.1535 - accuracy: 0.3964 - val_loss: 2.5664 - val_accuracy: 0.1776 - lr: 0.0012\n",
            "Epoch 25/100\n",
            "262/262 [==============================] - 90s 344ms/step - loss: 1.7839 - accuracy: 0.4028 - val_loss: 2.1898 - val_accuracy: 0.2920 - lr: 0.0012\n",
            "Epoch 26/100\n",
            "262/262 [==============================] - 89s 340ms/step - loss: 1.8008 - accuracy: 0.4092 - val_loss: 2.3347 - val_accuracy: 0.2812 - lr: 0.0012\n",
            "Epoch 27/100\n",
            "262/262 [==============================] - 89s 340ms/step - loss: 1.8568 - accuracy: 0.4153 - val_loss: 2.4226 - val_accuracy: 0.2206 - lr: 0.0012\n",
            "Epoch 28/100\n",
            "262/262 [==============================] - 90s 343ms/step - loss: 1.7819 - accuracy: 0.4129 - val_loss: 2.2642 - val_accuracy: 0.2308 - lr: 0.0012\n",
            "Epoch 29/100\n",
            "262/262 [==============================] - 90s 344ms/step - loss: 1.5716 - accuracy: 0.4290 - val_loss: 1.7630 - val_accuracy: 0.3679 - lr: 6.2500e-04\n",
            "Epoch 30/100\n",
            "262/262 [==============================] - 89s 340ms/step - loss: 1.5547 - accuracy: 0.4361 - val_loss: 1.8094 - val_accuracy: 0.3614 - lr: 6.2500e-04\n",
            "Epoch 31/100\n",
            "262/262 [==============================] - 90s 344ms/step - loss: 1.5441 - accuracy: 0.4456 - val_loss: 1.7807 - val_accuracy: 0.4101 - lr: 6.2500e-04\n",
            "Epoch 32/100\n",
            "262/262 [==============================] - 89s 340ms/step - loss: 1.5307 - accuracy: 0.4480 - val_loss: 2.0165 - val_accuracy: 0.2667 - lr: 6.2500e-04\n",
            "Epoch 33/100\n",
            "262/262 [==============================] - 90s 344ms/step - loss: 1.5222 - accuracy: 0.4558 - val_loss: 1.6853 - val_accuracy: 0.4309 - lr: 6.2500e-04\n",
            "Epoch 34/100\n",
            "262/262 [==============================] - 89s 340ms/step - loss: 1.5876 - accuracy: 0.4653 - val_loss: 1.7764 - val_accuracy: 0.3743 - lr: 6.2500e-04\n",
            "Epoch 35/100\n",
            "262/262 [==============================] - 90s 344ms/step - loss: 1.4911 - accuracy: 0.4688 - val_loss: 1.6686 - val_accuracy: 0.4166 - lr: 6.2500e-04\n",
            "Epoch 36/100\n",
            "262/262 [==============================] - 90s 344ms/step - loss: 1.4815 - accuracy: 0.4771 - val_loss: 1.8269 - val_accuracy: 0.3937 - lr: 6.2500e-04\n",
            "Epoch 37/100\n",
            "262/262 [==============================] - 89s 340ms/step - loss: 1.4596 - accuracy: 0.4839 - val_loss: 1.8366 - val_accuracy: 0.3994 - lr: 6.2500e-04\n",
            "Epoch 38/100\n",
            "262/262 [==============================] - 89s 340ms/step - loss: 1.4653 - accuracy: 0.4895 - val_loss: 1.9701 - val_accuracy: 0.3975 - lr: 6.2500e-04\n",
            "Epoch 39/100\n",
            "262/262 [==============================] - 89s 340ms/step - loss: 1.4729 - accuracy: 0.4936 - val_loss: 5.3076 - val_accuracy: 0.2721 - lr: 6.2500e-04\n",
            "Epoch 40/100\n",
            "262/262 [==============================] - 90s 344ms/step - loss: 1.4815 - accuracy: 0.4965 - val_loss: 1.7999 - val_accuracy: 0.3800 - lr: 6.2500e-04\n",
            "Epoch 41/100\n",
            "262/262 [==============================] - 90s 344ms/step - loss: 1.3040 - accuracy: 0.5282 - val_loss: 1.8721 - val_accuracy: 0.3588 - lr: 3.1250e-04\n",
            "Epoch 42/100\n",
            "262/262 [==============================] - 89s 340ms/step - loss: 1.2882 - accuracy: 0.5339 - val_loss: 1.5973 - val_accuracy: 0.4531 - lr: 3.1250e-04\n",
            "Epoch 43/100\n",
            "262/262 [==============================] - 89s 340ms/step - loss: 1.2863 - accuracy: 0.5403 - val_loss: 1.8246 - val_accuracy: 0.3853 - lr: 3.1250e-04\n",
            "Epoch 44/100\n",
            "262/262 [==============================] - 89s 340ms/step - loss: 1.2636 - accuracy: 0.5452 - val_loss: 1.5706 - val_accuracy: 0.4595 - lr: 3.1250e-04\n",
            "Epoch 45/100\n",
            "262/262 [==============================] - 89s 340ms/step - loss: 1.2508 - accuracy: 0.5470 - val_loss: 2.0665 - val_accuracy: 0.4013 - lr: 3.1250e-04\n",
            "Epoch 46/100\n",
            "262/262 [==============================] - 90s 344ms/step - loss: 1.2658 - accuracy: 0.5476 - val_loss: 1.5557 - val_accuracy: 0.4805 - lr: 3.1250e-04\n",
            "Epoch 47/100\n",
            "262/262 [==============================] - 90s 343ms/step - loss: 1.2406 - accuracy: 0.5577 - val_loss: 1.5772 - val_accuracy: 0.4681 - lr: 3.1250e-04\n",
            "Epoch 48/100\n",
            "262/262 [==============================] - 89s 340ms/step - loss: 1.2185 - accuracy: 0.5669 - val_loss: 1.9865 - val_accuracy: 0.3746 - lr: 3.1250e-04\n",
            "Epoch 49/100\n",
            "262/262 [==============================] - 89s 339ms/step - loss: 1.2009 - accuracy: 0.5741 - val_loss: 1.9872 - val_accuracy: 0.3464 - lr: 3.1250e-04\n",
            "Epoch 50/100\n",
            "262/262 [==============================] - 89s 339ms/step - loss: 1.1906 - accuracy: 0.5796 - val_loss: 1.5767 - val_accuracy: 0.4939 - lr: 3.1250e-04\n",
            "Epoch 51/100\n",
            "262/262 [==============================] - 90s 343ms/step - loss: 1.1787 - accuracy: 0.5814 - val_loss: 1.5722 - val_accuracy: 0.4834 - lr: 3.1250e-04\n",
            "Epoch 52/100\n",
            "262/262 [==============================] - 89s 339ms/step - loss: 1.0903 - accuracy: 0.6039 - val_loss: 1.5969 - val_accuracy: 0.4758 - lr: 1.5625e-04\n",
            "Epoch 53/100\n",
            "262/262 [==============================] - 90s 343ms/step - loss: 1.0702 - accuracy: 0.6073 - val_loss: 1.5886 - val_accuracy: 0.4727 - lr: 1.5625e-04\n",
            "Epoch 54/100\n",
            "262/262 [==============================] - 90s 343ms/step - loss: 1.0559 - accuracy: 0.6118 - val_loss: 1.5014 - val_accuracy: 0.4958 - lr: 1.5625e-04\n",
            "Epoch 55/100\n",
            "262/262 [==============================] - 89s 339ms/step - loss: 1.0496 - accuracy: 0.6133 - val_loss: 1.4566 - val_accuracy: 0.5228 - lr: 1.5625e-04\n",
            "Epoch 56/100\n",
            "262/262 [==============================] - 90s 343ms/step - loss: 1.0343 - accuracy: 0.6206 - val_loss: 1.5191 - val_accuracy: 0.5290 - lr: 1.5625e-04\n",
            "Epoch 57/100\n",
            "262/262 [==============================] - 90s 343ms/step - loss: 1.0293 - accuracy: 0.6215 - val_loss: 1.5047 - val_accuracy: 0.5085 - lr: 1.5625e-04\n",
            "Epoch 58/100\n",
            "262/262 [==============================] - 90s 343ms/step - loss: 1.0232 - accuracy: 0.6276 - val_loss: 1.4882 - val_accuracy: 0.4980 - lr: 1.5625e-04\n",
            "Epoch 59/100\n",
            "262/262 [==============================] - 89s 339ms/step - loss: 1.0016 - accuracy: 0.6301 - val_loss: 1.4880 - val_accuracy: 0.5020 - lr: 1.5625e-04\n",
            "Epoch 60/100\n",
            "262/262 [==============================] - 90s 343ms/step - loss: 1.0087 - accuracy: 0.6287 - val_loss: 1.6061 - val_accuracy: 0.4848 - lr: 1.5625e-04\n",
            "Epoch 61/100\n",
            "262/262 [==============================] - 90s 343ms/step - loss: 0.9547 - accuracy: 0.6385 - val_loss: 1.4825 - val_accuracy: 0.5331 - lr: 7.8125e-05\n",
            "Epoch 62/100\n",
            "262/262 [==============================] - 89s 339ms/step - loss: 0.9397 - accuracy: 0.6481 - val_loss: 1.4996 - val_accuracy: 0.5491 - lr: 7.8125e-05\n",
            "Epoch 63/100\n",
            "262/262 [==============================] - 90s 343ms/step - loss: 0.9312 - accuracy: 0.6504 - val_loss: 1.4519 - val_accuracy: 0.5357 - lr: 7.8125e-05\n",
            "Epoch 64/100\n",
            "262/262 [==============================] - 90s 343ms/step - loss: 0.9299 - accuracy: 0.6523 - val_loss: 1.5514 - val_accuracy: 0.5335 - lr: 7.8125e-05\n",
            "Epoch 65/100\n",
            "262/262 [==============================] - 89s 340ms/step - loss: 0.9131 - accuracy: 0.6562 - val_loss: 1.4581 - val_accuracy: 0.5436 - lr: 7.8125e-05\n",
            "Epoch 66/100\n",
            "262/262 [==============================] - 89s 339ms/step - loss: 0.9169 - accuracy: 0.6530 - val_loss: 1.6689 - val_accuracy: 0.5066 - lr: 7.8125e-05\n",
            "Epoch 67/100\n",
            "262/262 [==============================] - 90s 343ms/step - loss: 0.9021 - accuracy: 0.6592 - val_loss: 1.6770 - val_accuracy: 0.5197 - lr: 7.8125e-05\n",
            "Epoch 68/100\n",
            "262/262 [==============================] - 89s 339ms/step - loss: 0.9089 - accuracy: 0.6594 - val_loss: 1.6195 - val_accuracy: 0.5414 - lr: 7.8125e-05\n",
            "Epoch 69/100\n",
            "262/262 [==============================] - 90s 343ms/step - loss: 0.8838 - accuracy: 0.6656 - val_loss: 1.5206 - val_accuracy: 0.5374 - lr: 3.9062e-05\n",
            "Epoch 70/100\n",
            "262/262 [==============================] - 89s 339ms/step - loss: 0.8724 - accuracy: 0.6691 - val_loss: 1.4360 - val_accuracy: 0.5577 - lr: 3.9062e-05\n",
            "Epoch 71/100\n",
            "262/262 [==============================] - 90s 343ms/step - loss: 0.8696 - accuracy: 0.6721 - val_loss: 1.5969 - val_accuracy: 0.5448 - lr: 3.9062e-05\n",
            "Epoch 72/100\n",
            "262/262 [==============================] - 90s 343ms/step - loss: 0.8660 - accuracy: 0.6718 - val_loss: 1.5645 - val_accuracy: 0.5285 - lr: 3.9062e-05\n",
            "Epoch 73/100\n",
            "262/262 [==============================] - 89s 339ms/step - loss: 0.8560 - accuracy: 0.6751 - val_loss: 1.5001 - val_accuracy: 0.5493 - lr: 3.9062e-05\n",
            "Epoch 74/100\n",
            "262/262 [==============================] - 89s 339ms/step - loss: 0.8608 - accuracy: 0.6727 - val_loss: 1.6174 - val_accuracy: 0.5321 - lr: 3.9062e-05\n",
            "Epoch 75/100\n",
            "262/262 [==============================] - 90s 343ms/step - loss: 0.8459 - accuracy: 0.6754 - val_loss: 1.5586 - val_accuracy: 0.5386 - lr: 3.9062e-05\n",
            "Epoch 76/100\n",
            "262/262 [==============================] - 89s 339ms/step - loss: 0.8340 - accuracy: 0.6836 - val_loss: 1.4815 - val_accuracy: 0.5629 - lr: 1.9531e-05\n",
            "Epoch 77/100\n",
            "262/262 [==============================] - 90s 343ms/step - loss: 0.8333 - accuracy: 0.6829 - val_loss: 1.5398 - val_accuracy: 0.5557 - lr: 1.9531e-05\n",
            "Epoch 78/100\n",
            "262/262 [==============================] - 90s 343ms/step - loss: 0.8290 - accuracy: 0.6840 - val_loss: 1.7550 - val_accuracy: 0.5352 - lr: 1.9531e-05\n",
            "Epoch 79/100\n",
            "262/262 [==============================] - 89s 339ms/step - loss: 0.8193 - accuracy: 0.6887 - val_loss: 1.4670 - val_accuracy: 0.5624 - lr: 1.9531e-05\n",
            "Epoch 80/100\n",
            "262/262 [==============================] - 89s 339ms/step - loss: 0.8231 - accuracy: 0.6881 - val_loss: 1.4915 - val_accuracy: 0.5596 - lr: 1.9531e-05\n"
          ]
        }
      ]
    },
    {
      "cell_type": "code",
      "source": [
        "model.save('animalmodel.h5')\n"
      ],
      "metadata": {
        "id": "oF5z8TnGPj6S"
      },
      "execution_count": null,
      "outputs": []
    },
    {
      "cell_type": "code",
      "source": [
        "def display_acc_graph(history):\n",
        "    acc = history.history[\"accuracy\"]\n",
        "    val_acc = history.history[\"val_accuracy\"]\n",
        "    epochs = range(len(acc))\n",
        "    plt.plot(epochs, acc, 'b', label=\"Training Accuracy\")\n",
        "    plt.plot(epochs, val_acc, 'r', label=\"Validation Accuracy\")\n",
        "    plt.title(\"Accuracy Graph\")\n",
        "    plt.legend()\n",
        "    plt.figure()\n",
        "\n",
        "def display_loss_graph(history):\n",
        "    loss = history.history[\"loss\"]\n",
        "    val_loss = history.history[\"val_loss\"]\n",
        "    epochs = range(len(loss))\n",
        "    plt.plot(epochs, loss, 'b', label=\"Training Loss\")\n",
        "    plt.plot(epochs, val_loss, 'r', label=\"Validation Loss\")\n",
        "    plt.title(\"Loss Graph\")\n",
        "    plt.legend()\n",
        "    plt.show()"
      ],
      "metadata": {
        "id": "O6Z4e9hEYd5W"
      },
      "execution_count": 15,
      "outputs": []
    },
    {
      "cell_type": "code",
      "source": [
        "display_acc_graph(history)\n",
        "display_loss_graph(history)"
      ],
      "metadata": {
        "id": "ARe5sL-VwfTq",
        "outputId": "e49f24d9-949a-41d8-d3c1-2ecac139ec95",
        "colab": {
          "base_uri": "https://localhost:8080/",
          "height": 887
        }
      },
      "execution_count": 16,
      "outputs": [
        {
          "output_type": "display_data",
          "data": {
            "text/plain": [
              "<Figure size 640x480 with 1 Axes>"
            ],
            "image/png": "[encoded data removed]"
          },
          "metadata": {}
        },
        {
          "output_type": "display_data",
          "data": {
            "text/plain": [
              "<Figure size 640x480 with 1 Axes>"
            ],
            "image/png": "[encoded data removed]"
          },
          "metadata": {}
        }
      ]
    },
    {
      "cell_type": "code",
      "source": [
        "#KNN\n",
        "import pickle\n",
        "from sklearn.model_selection import train_test_split\n",
        "from sklearn.neighbors import KNeighborsClassifier\n",
        "from sklearn.metrics import accuracy_score, classification_report\n",
        "\n",
        "X_train, X_test, y_train, y_test = train_test_split(X, y, test_size=0.2, random_state=42)\n",
        "\n",
        "X_train = X_train.reshape(X_train[0],-1)\n",
        "X_test = X_test.reshape(X_test[0],-1)\n",
        "\n",
        "knn_model = KNeighborsClassifier(n_neighbors=5)\n",
        "knn_model.fit(X_train, y_train)\n",
        "\n",
        "# Make Predictions\n",
        "y_pred = knn_model.predict(X_test)\n",
        "\n",
        "# Evaluate the Model\n",
        "accuracy = accuracy_score(y_test, y_pred)\n",
        "print(f'Accuracy: {accuracy:.2f}')\n",
        "\n",
        "print(classification_report(y_test, y_pred))"
      ],
      "metadata": {
        "id": "wTTPGiciOoUx"
      },
      "execution_count": null,
      "outputs": []
    },
    {
      "cell_type": "code",
      "source": [
        "conf_matrix_age = confusion_matrix(y_test, y_pred)\n",
        "print(conf_matrix_age)\n",
        "\n",
        "skplt.metrics.plot_confusion_matrix(y_test, y_pred, figsize=(8, 6), cmap='Blues')\n",
        "plt.xlabel('Predicted Animal')\n",
        "plt.ylabel('True Animal')\n",
        "plt.title('Confusion Matrix for Age')\n",
        "plt.show()"
      ],
      "metadata": {
        "id": "StgsaWYfl-AL"
      },
      "execution_count": null,
      "outputs": []
    },
    {
      "cell_type": "code",
      "source": [
        "with open('knn_animal_model.pkl', 'wb') as model_file:\n",
        "    pickle.dump(knn_model, model_file)\n",
        "\n",
        "# with open('knn_model.pkl', 'rb') as model_file:\n",
        "#     knn_model = pickle.load(model_file)"
      ],
      "metadata": {
        "id": "3vjXK5FyOvGH"
      },
      "execution_count": null,
      "outputs": []
    },
    {
      "cell_type": "code",
      "source": [
        "from google.colab import files\n",
        "files.download(\"/content/knn_model.pkl\")"
      ],
      "metadata": {
        "id": "_fIH-6uoO0k1"
      },
      "execution_count": null,
      "outputs": []
    },
    {
      "cell_type": "code",
      "source": [
        "## SVM\n",
        "\n",
        "import pickle\n",
        "from sklearn.model_selection import train_test_split\n",
        "from sklearn.svm import SVC\n",
        "from sklearn.metrics import accuracy_score, classification_report\n",
        "\n",
        "X_train, X_test, y_train, y_test = train_test_split(X, y, test_size=0.2, random_state=42)\n",
        "\n",
        "print(y_train)\n",
        "\n",
        "X_train_flattened = X_train.reshape(X_train.shape[0], -1)\n",
        "X_test_flattened = X_test.reshape(X_test.shape[0], -1)\n",
        "\n",
        "svm_model = SVC(kernel='linear')\n",
        "\n",
        "# Train the model\n",
        "svm_model.fit(X_train_flattened, y_train)\n",
        "\n",
        "y_pred = svm_model.predict(X_test_flattened)\n",
        "\n",
        "accuracy = accuracy_score(y_test, y_pred)\n",
        "print(f'Accuracy: {accuracy:.2f}')\n",
        "\n",
        "print(classification_report(y_test, y_pred))\n",
        "\n",
        "with open('svm_model.pkl', 'wb') as model_file:\n",
        "    pickle.dump(svm_model, model_file)\n",
        "\n",
        "# with open('svm_model.pkl', 'rb') as model_file:\n",
        "#     loaded_svm_model = pickle.load(model_file)\n",
        "\n",
        "from google.colab import files\n",
        "files.download(\"/content/svm_model.pkl\")"
      ],
      "metadata": {
        "id": "vC9oMAWTO4aC"
      },
      "execution_count": null,
      "outputs": []
    },
    {
      "cell_type": "code",
      "source": [
        "## ResNet\n",
        "\n",
        "from tensorflow.keras.preprocessing import image\n",
        "from tensorflow.keras.applications import ResNet50\n",
        "from tensorflow.keras.applications.resnet50 import preprocess_input\n",
        "from tensorflow.keras.layers import Input, Flatten, Dense\n",
        "from tensorflow.keras.models import Model\n",
        "from tensorflow.keras.utils import to_categorical\n",
        "\n",
        "X_train_paths, X_test_paths, y_train, y_test = train_test_split(X_paths, y_one_hot, test_size=0.2, random_state=42)\n",
        "\n",
        "def load_and_preprocess_images(file_paths):\n",
        "    images = []\n",
        "    for file_path in file_paths:\n",
        "        img = image.load_img(file_path, target_size=(224, 224))\n",
        "        img_array = image.img_to_array(img)\n",
        "        img_array = preprocess_input(img_array)\n",
        "        images.append(img_array)\n",
        "    return images\n",
        "\n",
        "X_train = load_and_preprocess_images(X_train_paths)\n",
        "X_test = load_and_preprocess_images(X_test_paths)\n",
        "\n",
        "base_model = ResNet50(weights='imagenet', include_top=False, input_tensor=Input(shape=(224, 224, 3)))\n",
        "\n",
        "for layer in base_model.layers:\n",
        "    layer.trainable = False\n",
        "\n",
        "x = Flatten()(base_model.output)\n",
        "x = Dense(256, activation='relu')(x)\n",
        "predictions = Dense(len(label_encoder.classes_), activation='softmax')(x)\n",
        "\n",
        "model = Model(inputs=base_model.input, outputs=predictions)\n",
        "\n",
        "model.compile(optimizer='adam', loss='categorical_crossentropy', metrics=['accuracy'])\n",
        "\n",
        "model.fit(x=X_train, y=y_train, epochs=5, validation_data=(X_test, y_test))\n",
        "\n",
        "# Evaluate the model\n",
        "y_pred_prob = model.predict(X_test)\n",
        "y_pred = label_encoder.inverse_transform(y_pred_prob.argmax(axis=1))\n",
        "y_true = label_encoder.inverse_transform(y_test.argmax(axis=1))\n",
        "\n",
        "accuracy = accuracy_score(y_true, y_pred)\n",
        "print(f'Accuracy: {accuracy:.2f}')\n",
        "\n",
        "# Print a classification report for more detailed metrics\n",
        "print(classification_report(y_true, y_pred, target_names=label_encoder.classes_))"
      ],
      "metadata": {
        "id": "t4wdJrujPANO"
      },
      "execution_count": null,
      "outputs": []
    }
  ]
}